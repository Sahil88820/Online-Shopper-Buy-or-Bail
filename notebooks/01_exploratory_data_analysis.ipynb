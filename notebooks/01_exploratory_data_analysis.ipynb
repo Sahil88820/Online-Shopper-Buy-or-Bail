{
 "cells": [
  {
   "cell_type": "code",
   "execution_count": null,
   "id": "7cb302bd",
   "metadata": {},
   "outputs": [],
   "source": [
    "# Check for missing values\n",
    "missing_values = df.isnull().sum()\n",
    "print(\"Missing Values:\")\n",
    "display(missing_values[missing_values > 0])\n",
    "\n",
    "# Check for duplicates\n",
    "duplicates = df.duplicated().sum()\n",
    "print(f\"\\nNumber of duplicate rows: {duplicates}\")\n",
    "\n",
    "# Check for outliers using IQR method\n",
    "def detect_outliers(df, column):\n",
    "    Q1 = df[column].quantile(0.25)\n",
    "    Q3 = df[column].quantile(0.75)\n",
    "    IQR = Q3 - Q1\n",
    "    lower_bound = Q1 - 1.5 * IQR\n",
    "    upper_bound = Q3 + 1.5 * IQR\n",
    "    outliers = df[(df[column] < lower_bound) | (df[column] > upper_bound)][column]\n",
    "    return len(outliers)\n",
    "\n",
    "print(\"\\nOutlier Analysis:\")\n",
    "for col in numerical_features:\n",
    "    outlier_count = detect_outliers(df, col)\n",
    "    if outlier_count > 0:\n",
    "        print(f\"{col}: {outlier_count} outliers\")"
   ]
  },
  {
   "cell_type": "markdown",
   "id": "8f16378e",
   "metadata": {},
   "source": [
    "## 5. Data Quality Check"
   ]
  },
  {
   "cell_type": "code",
   "execution_count": null,
   "id": "ee88eab0",
   "metadata": {},
   "outputs": [],
   "source": [
    "# Distribution of page values by revenue\n",
    "fig = px.histogram(df, \n",
    "                  x=\"page_values\", \n",
    "                  color=\"revenue\",\n",
    "                  marginal=\"box\",\n",
    "                  title=\"Distribution of Page Values by Revenue\")\n",
    "fig.show()\n",
    "\n",
    "# Monthly purchase patterns\n",
    "monthly_revenue = df.groupby(['month', 'revenue'])['revenue'].count().unstack()\n",
    "fig = px.bar(monthly_revenue,\n",
    "             title=\"Monthly Purchase Patterns\",\n",
    "             barmode='group',\n",
    "             labels={'value': 'Count', 'month': 'Month'})\n",
    "fig.show()\n",
    "\n",
    "# Visitor type analysis\n",
    "visitor_revenue = pd.crosstab(df['visitor_type'], df['revenue'])\n",
    "fig = px.pie(visitor_revenue, \n",
    "             values=visitor_revenue[True], \n",
    "             names=visitor_revenue.index,\n",
    "             title=\"Revenue Distribution by Visitor Type\")\n",
    "fig.show()"
   ]
  },
  {
   "cell_type": "markdown",
   "id": "bb00ee78",
   "metadata": {},
   "source": [
    "## 4. Visualizations"
   ]
  },
  {
   "cell_type": "code",
   "execution_count": null,
   "id": "7571fd7b",
   "metadata": {},
   "outputs": [],
   "source": [
    "# Calculate correlation matrix\n",
    "correlation_matrix = df[numerical_features].corr()\n",
    "\n",
    "# Create heatmap\n",
    "plt.figure(figsize=(12, 8))\n",
    "sns.heatmap(correlation_matrix, \n",
    "            annot=True, \n",
    "            cmap='coolwarm', \n",
    "            center=0,\n",
    "            fmt='.2f')\n",
    "plt.title('Correlation Matrix of Numerical Features')\n",
    "plt.tight_layout()\n",
    "plt.show()"
   ]
  },
  {
   "cell_type": "markdown",
   "id": "f7e53bd0",
   "metadata": {},
   "source": [
    "## 3. Correlation Analysis"
   ]
  },
  {
   "cell_type": "code",
   "execution_count": null,
   "id": "581f0a31",
   "metadata": {},
   "outputs": [],
   "source": [
    "# Numerical features summary\n",
    "numerical_features = df.select_dtypes(include=['float64', 'int64']).columns\n",
    "print(\"Numerical Features Summary:\")\n",
    "display(df[numerical_features].describe())\n",
    "\n",
    "# Categorical features summary\n",
    "categorical_features = df.select_dtypes(include=['object', 'bool']).columns\n",
    "print(\"\\nCategorical Features Summary:\")\n",
    "for col in categorical_features:\n",
    "    print(f\"\\n{col} value counts:\")\n",
    "    display(df[col].value_counts())"
   ]
  },
  {
   "cell_type": "markdown",
   "id": "fb53c425",
   "metadata": {},
   "source": [
    "## 2. Feature Analysis"
   ]
  },
  {
   "cell_type": "code",
   "execution_count": null,
   "id": "5d34105c",
   "metadata": {},
   "outputs": [],
   "source": [
    "# Load the dataset\n",
    "df = pd.read_csv('../data/raw/online_shoppers_intention.csv')\n",
    "\n",
    "# Display basic information\n",
    "print(\"Dataset Shape:\", df.shape)\n",
    "print(\"\\nColumns:\", df.columns.tolist())\n",
    "print(\"\\nSample of data:\")\n",
    "display(df.head())\n",
    "print(\"\\nData Info:\")\n",
    "df.info()"
   ]
  },
  {
   "cell_type": "markdown",
   "id": "e2d01766",
   "metadata": {},
   "source": [
    "## 1. Data Loading and Overview"
   ]
  },
  {
   "cell_type": "code",
   "execution_count": null,
   "id": "bdcfb1a1",
   "metadata": {},
   "outputs": [],
   "source": [
    "# Import required libraries\n",
    "import pandas as pd\n",
    "import numpy as np\n",
    "import matplotlib.pyplot as plt\n",
    "import seaborn as sns\n",
    "from datetime import datetime\n",
    "import plotly.express as px\n",
    "import plotly.graph_objects as go\n",
    "\n",
    "# Set style\n",
    "plt.style.use('seaborn')\n",
    "sns.set_palette(\"husl\")"
   ]
  },
  {
   "cell_type": "markdown",
   "id": "0ca2f1bf",
   "metadata": {},
   "source": [
    "# 🔍 Exploratory Data Analysis - Online Shopper Intention\n",
    "\n",
    "This notebook performs exploratory data analysis on the online shopper intention dataset to understand:\n",
    "1. Data structure and basic statistics\n",
    "2. Feature distributions and relationships\n",
    "3. Customer behavior patterns\n",
    "4. Potential predictors of purchase intention"
   ]
  }
 ],
 "metadata": {
  "language_info": {
   "name": "python"
  }
 },
 "nbformat": 4,
 "nbformat_minor": 5
}
